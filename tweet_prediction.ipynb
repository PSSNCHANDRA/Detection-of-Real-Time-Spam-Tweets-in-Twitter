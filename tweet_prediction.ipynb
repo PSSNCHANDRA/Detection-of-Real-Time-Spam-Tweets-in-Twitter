{
  "nbformat": 4,
  "nbformat_minor": 0,
  "metadata": {
    "colab": {
      "provenance": []
    },
    "kernelspec": {
      "name": "python3",
      "display_name": "Python 3"
    }
  },
  "cells": [
    {
      "cell_type": "markdown",
      "metadata": {
        "id": "M5FPk6rwTaea"
      },
      "source": [
        "**Import Required Libraries**"
      ]
    },
    {
      "cell_type": "code",
      "metadata": {
        "id": "ikdShhE-vHO1"
      },
      "source": [
        "import numpy as np\n",
        "import pandas as pd\n",
        "import matplotlib.pyplot as plt\n",
        "import seaborn as sns\n",
        "from sklearn.model_selection import train_test_split\n",
        "from sklearn.metrics import accuracy_score,classification_report,confusion_matrix\n"
      ],
      "execution_count": null,
      "outputs": []
    },
    {
      "cell_type": "markdown",
      "metadata": {
        "id": "oDedFC8CUHTu"
      },
      "source": [
        "**Data Collection**"
      ]
    },
    {
      "cell_type": "code",
      "metadata": {
        "id": "BdJzPuwmvKdL"
      },
      "source": [
        "df=pd.read_csv('train (3).csv')\n"
      ],
      "execution_count": null,
      "outputs": []
    },
    {
      "cell_type": "markdown",
      "metadata": {
        "id": "xXRNMjYCUXQ-"
      },
      "source": [
        "**Data Preprocessing / EDA**"
      ]
    },
    {
      "cell_type": "code",
      "metadata": {
        "id": "9Ua1XObhROPp",
        "colab": {
          "base_uri": "https://localhost:8080/",
          "height": 191
        },
        "outputId": "51f2e345-d564-4044-ecc3-513cca526adb"
      },
      "source": [
        "df.head()"
      ],
      "execution_count": null,
      "outputs": [
        {
          "output_type": "execute_result",
          "data": {
            "text/html": [
              "<div>\n",
              "<style scoped>\n",
              "    .dataframe tbody tr th:only-of-type {\n",
              "        vertical-align: middle;\n",
              "    }\n",
              "\n",
              "    .dataframe tbody tr th {\n",
              "        vertical-align: top;\n",
              "    }\n",
              "\n",
              "    .dataframe thead th {\n",
              "        text-align: right;\n",
              "    }\n",
              "</style>\n",
              "<table border=\"1\" class=\"dataframe\">\n",
              "  <thead>\n",
              "    <tr style=\"text-align: right;\">\n",
              "      <th></th>\n",
              "      <th>Tweet</th>\n",
              "      <th>following</th>\n",
              "      <th>followers</th>\n",
              "      <th>actions</th>\n",
              "      <th>is_retweet</th>\n",
              "      <th>location</th>\n",
              "      <th>Type</th>\n",
              "      <th>Unnamed: 7</th>\n",
              "    </tr>\n",
              "  </thead>\n",
              "  <tbody>\n",
              "    <tr>\n",
              "      <th>0</th>\n",
              "      <td>Good Morning Love  @LeeBrown_V</td>\n",
              "      <td>0.0</td>\n",
              "      <td>0.0</td>\n",
              "      <td>0.0</td>\n",
              "      <td>0.0</td>\n",
              "      <td>Pennsylvania, USA</td>\n",
              "      <td>Quality</td>\n",
              "      <td>NaN</td>\n",
              "    </tr>\n",
              "    <tr>\n",
              "      <th>1</th>\n",
              "      <td>'@realDonaldTrump @USNavy RIP TO HEROES'</td>\n",
              "      <td>42096.0</td>\n",
              "      <td>61060.0</td>\n",
              "      <td>5001.0</td>\n",
              "      <td>0.0</td>\n",
              "      <td>South Padre Island, Texas</td>\n",
              "      <td>Spam</td>\n",
              "      <td>NaN</td>\n",
              "    </tr>\n",
              "    <tr>\n",
              "      <th>2</th>\n",
              "      <td>Haven't been following the news but I understa...</td>\n",
              "      <td>0.0</td>\n",
              "      <td>0.0</td>\n",
              "      <td>NaN</td>\n",
              "      <td>0.0</td>\n",
              "      <td>Will never be broke ever again</td>\n",
              "      <td>Quality</td>\n",
              "      <td>NaN</td>\n",
              "    </tr>\n",
              "    <tr>\n",
              "      <th>3</th>\n",
              "      <td>pic.twitter.com/dy9q4ftLhZ What to do with pap...</td>\n",
              "      <td>0.0</td>\n",
              "      <td>0.0</td>\n",
              "      <td>0.0</td>\n",
              "      <td>0.0</td>\n",
              "      <td>Mundo</td>\n",
              "      <td>Quality</td>\n",
              "      <td>NaN</td>\n",
              "    </tr>\n",
              "    <tr>\n",
              "      <th>4</th>\n",
              "      <td>#DidYouKnow ► Mahatma Gandhi made a brief visi...</td>\n",
              "      <td>17800.0</td>\n",
              "      <td>35100.0</td>\n",
              "      <td>NaN</td>\n",
              "      <td>0.0</td>\n",
              "      <td>Nottingham, England</td>\n",
              "      <td>Quality</td>\n",
              "      <td>NaN</td>\n",
              "    </tr>\n",
              "  </tbody>\n",
              "</table>\n",
              "</div>"
            ],
            "text/plain": [
              "                                               Tweet  ...  Unnamed: 7\n",
              "0                     Good Morning Love  @LeeBrown_V  ...         NaN\n",
              "1           '@realDonaldTrump @USNavy RIP TO HEROES'  ...         NaN\n",
              "2  Haven't been following the news but I understa...  ...         NaN\n",
              "3  pic.twitter.com/dy9q4ftLhZ What to do with pap...  ...         NaN\n",
              "4  #DidYouKnow ► Mahatma Gandhi made a brief visi...  ...         NaN\n",
              "\n",
              "[5 rows x 8 columns]"
            ]
          },
          "metadata": {
            "tags": []
          },
          "execution_count": 101
        }
      ]
    },
    {
      "cell_type": "code",
      "metadata": {
        "id": "eAW3h3ACRQJw",
        "colab": {
          "base_uri": "https://localhost:8080/"
        },
        "outputId": "637a734f-30a1-4925-a19e-47dcea3666e8"
      },
      "source": [
        "df.info()"
      ],
      "execution_count": null,
      "outputs": [
        {
          "output_type": "stream",
          "text": [
            "<class 'pandas.core.frame.DataFrame'>\n",
            "RangeIndex: 14899 entries, 0 to 14898\n",
            "Data columns (total 8 columns):\n",
            " #   Column      Non-Null Count  Dtype  \n",
            "---  ------      --------------  -----  \n",
            " 0   Tweet       14899 non-null  object \n",
            " 1   following   14741 non-null  float64\n",
            " 2   followers   14882 non-null  float64\n",
            " 3   actions     11462 non-null  float64\n",
            " 4   is_retweet  14898 non-null  float64\n",
            " 5   location    12888 non-null  object \n",
            " 6   Type        14899 non-null  object \n",
            " 7   Unnamed: 7  2 non-null      object \n",
            "dtypes: float64(4), object(4)\n",
            "memory usage: 931.3+ KB\n"
          ],
          "name": "stdout"
        }
      ]
    },
    {
      "cell_type": "code",
      "metadata": {
        "id": "1j0p7k7dvWpN",
        "colab": {
          "base_uri": "https://localhost:8080/"
        },
        "outputId": "ef4cc722-575f-4e12-a5a4-fc199db64d01"
      },
      "source": [
        "df=df.drop('Unnamed: 7',axis=1)\n",
        "df.shape"
      ],
      "execution_count": null,
      "outputs": [
        {
          "output_type": "execute_result",
          "data": {
            "text/plain": [
              "(14899, 7)"
            ]
          },
          "metadata": {
            "tags": []
          },
          "execution_count": 3
        }
      ]
    },
    {
      "cell_type": "code",
      "metadata": {
        "id": "WbeOPjzvRUpW",
        "colab": {
          "base_uri": "https://localhost:8080/"
        },
        "outputId": "cc308bf4-8390-4b99-ab3f-bc7088c5df7a"
      },
      "source": [
        "df.dtypes"
      ],
      "execution_count": null,
      "outputs": [
        {
          "output_type": "execute_result",
          "data": {
            "text/plain": [
              "Tweet          object\n",
              "following     float64\n",
              "followers     float64\n",
              "actions       float64\n",
              "is_retweet    float64\n",
              "location       object\n",
              "Type           object\n",
              "dtype: object"
            ]
          },
          "metadata": {
            "tags": []
          },
          "execution_count": 64
        }
      ]
    },
    {
      "cell_type": "code",
      "metadata": {
        "id": "X_YSBi2dRa5B",
        "colab": {
          "base_uri": "https://localhost:8080/"
        },
        "outputId": "c70ef8cc-74ff-4dd0-b741-94a3f2bd2ee2"
      },
      "source": [
        "df.isna().sum()"
      ],
      "execution_count": null,
      "outputs": [
        {
          "output_type": "execute_result",
          "data": {
            "text/plain": [
              "Tweet            0\n",
              "following      158\n",
              "followers       17\n",
              "actions       3437\n",
              "is_retweet       1\n",
              "location      2011\n",
              "Type             0\n",
              "dtype: int64"
            ]
          },
          "metadata": {
            "tags": []
          },
          "execution_count": 7
        }
      ]
    },
    {
      "cell_type": "code",
      "metadata": {
        "id": "l39OzKyYRe5t",
        "colab": {
          "base_uri": "https://localhost:8080/",
          "height": 162
        },
        "outputId": "62dd9b60-4699-4620-9147-0436e8ea773b"
      },
      "source": [
        "df.groupby('Type').count()"
      ],
      "execution_count": null,
      "outputs": [
        {
          "output_type": "execute_result",
          "data": {
            "text/html": [
              "<div>\n",
              "<style scoped>\n",
              "    .dataframe tbody tr th:only-of-type {\n",
              "        vertical-align: middle;\n",
              "    }\n",
              "\n",
              "    .dataframe tbody tr th {\n",
              "        vertical-align: top;\n",
              "    }\n",
              "\n",
              "    .dataframe thead th {\n",
              "        text-align: right;\n",
              "    }\n",
              "</style>\n",
              "<table border=\"1\" class=\"dataframe\">\n",
              "  <thead>\n",
              "    <tr style=\"text-align: right;\">\n",
              "      <th></th>\n",
              "      <th>Tweet</th>\n",
              "      <th>following</th>\n",
              "      <th>followers</th>\n",
              "      <th>actions</th>\n",
              "      <th>is_retweet</th>\n",
              "      <th>location</th>\n",
              "    </tr>\n",
              "    <tr>\n",
              "      <th>Type</th>\n",
              "      <th></th>\n",
              "      <th></th>\n",
              "      <th></th>\n",
              "      <th></th>\n",
              "      <th></th>\n",
              "      <th></th>\n",
              "    </tr>\n",
              "  </thead>\n",
              "  <tbody>\n",
              "    <tr>\n",
              "      <th>Quality</th>\n",
              "      <td>7454</td>\n",
              "      <td>7296</td>\n",
              "      <td>7437</td>\n",
              "      <td>4018</td>\n",
              "      <td>7453</td>\n",
              "      <td>5446</td>\n",
              "    </tr>\n",
              "    <tr>\n",
              "      <th>South Dakota</th>\n",
              "      <td>2</td>\n",
              "      <td>2</td>\n",
              "      <td>2</td>\n",
              "      <td>1</td>\n",
              "      <td>2</td>\n",
              "      <td>2</td>\n",
              "    </tr>\n",
              "    <tr>\n",
              "      <th>Spam</th>\n",
              "      <td>7443</td>\n",
              "      <td>7443</td>\n",
              "      <td>7443</td>\n",
              "      <td>7443</td>\n",
              "      <td>7443</td>\n",
              "      <td>7440</td>\n",
              "    </tr>\n",
              "  </tbody>\n",
              "</table>\n",
              "</div>"
            ],
            "text/plain": [
              "              Tweet  following  followers  actions  is_retweet  location\n",
              "Type                                                                    \n",
              "Quality        7454       7296       7437     4018        7453      5446\n",
              "South Dakota      2          2          2        1           2         2\n",
              "Spam           7443       7443       7443     7443        7443      7440"
            ]
          },
          "metadata": {
            "tags": []
          },
          "execution_count": 8
        }
      ]
    },
    {
      "cell_type": "code",
      "metadata": {
        "id": "tYSD55nkvZPY"
      },
      "source": [
        "df=df[df.Type!='South Dakota']"
      ],
      "execution_count": null,
      "outputs": []
    },
    {
      "cell_type": "code",
      "metadata": {
        "id": "pvZmZmt5RtH5",
        "colab": {
          "base_uri": "https://localhost:8080/"
        },
        "outputId": "337c75f2-7b29-45ad-a588-0bfc89fbdaff"
      },
      "source": [
        "df.mean()"
      ],
      "execution_count": null,
      "outputs": [
        {
          "output_type": "execute_result",
          "data": {
            "text/plain": [
              "following       4695.430016\n",
              "followers     353490.504503\n",
              "actions         6992.523427\n",
              "is_retweet         0.249799\n",
              "dtype: float64"
            ]
          },
          "metadata": {
            "tags": []
          },
          "execution_count": 10
        }
      ]
    },
    {
      "cell_type": "code",
      "metadata": {
        "id": "OjjEO_wuvcZb"
      },
      "source": [
        "df['following']=df['following'].fillna(df['following'].mean())"
      ],
      "execution_count": null,
      "outputs": []
    },
    {
      "cell_type": "code",
      "metadata": {
        "id": "KIXqbPGkvjT9"
      },
      "source": [
        "df['is_retweet']=df['is_retweet'].fillna(df['is_retweet'].mean())"
      ],
      "execution_count": null,
      "outputs": []
    },
    {
      "cell_type": "code",
      "metadata": {
        "id": "X8tIVQLGvlEv"
      },
      "source": [
        "df['followers']=df['followers'].fillna(df['followers'].mean())"
      ],
      "execution_count": null,
      "outputs": []
    },
    {
      "cell_type": "code",
      "metadata": {
        "id": "CzJKmnv7vmz6"
      },
      "source": [
        "df['actions']=df['actions'].fillna(df['actions'].mean())"
      ],
      "execution_count": null,
      "outputs": []
    },
    {
      "cell_type": "code",
      "metadata": {
        "id": "1fPVnp1Rvoyu"
      },
      "source": [
        "df['location'].fillna(df['location'].mode()[0], inplace=True)"
      ],
      "execution_count": null,
      "outputs": []
    },
    {
      "cell_type": "code",
      "metadata": {
        "id": "vbYHQ2jjSBtI",
        "colab": {
          "base_uri": "https://localhost:8080/"
        },
        "outputId": "db4eb5e0-99c9-4865-9c23-58bfb6b55c6d"
      },
      "source": [
        "df.isna().sum()"
      ],
      "execution_count": null,
      "outputs": [
        {
          "output_type": "execute_result",
          "data": {
            "text/plain": [
              "Tweet         0\n",
              "following     0\n",
              "followers     0\n",
              "actions       0\n",
              "is_retweet    0\n",
              "location      0\n",
              "Type          0\n",
              "dtype: int64"
            ]
          },
          "metadata": {
            "tags": []
          },
          "execution_count": 71
        }
      ]
    },
    {
      "cell_type": "code",
      "metadata": {
        "id": "ql5GifwuRkmT",
        "colab": {
          "base_uri": "https://localhost:8080/",
          "height": 347
        },
        "outputId": "fbfbf21c-9691-418e-ad76-7399c971fd3d"
      },
      "source": [
        "#understanding the frequency distribution of data in target variable \"Type\"\n",
        "sns.countplot(df['Type'],label='count')"
      ],
      "execution_count": null,
      "outputs": [
        {
          "output_type": "stream",
          "text": [
            "/usr/local/lib/python3.6/dist-packages/seaborn/_decorators.py:43: FutureWarning: Pass the following variable as a keyword arg: x. From version 0.12, the only valid positional argument will be `data`, and passing other arguments without an explicit keyword will result in an error or misinterpretation.\n",
            "  FutureWarning\n"
          ],
          "name": "stderr"
        },
        {
          "output_type": "execute_result",
          "data": {
            "text/plain": [
              "<matplotlib.axes._subplots.AxesSubplot at 0x7f46fbb3ac18>"
            ]
          },
          "metadata": {
            "tags": []
          },
          "execution_count": 17
        },
        {
          "output_type": "display_data",
          "data": {
            "image/png": "[encoded data removed]",
            "text/plain": [
              "<Figure size 432x288 with 1 Axes>"
            ]
          },
          "metadata": {
            "tags": [],
            "needs_background": "light"
          }
        }
      ]
    },
    {
      "cell_type": "code",
      "metadata": {
        "id": "SrefshhORnUv",
        "colab": {
          "base_uri": "https://localhost:8080/",
          "height": 1000
        },
        "outputId": "1970504e-0370-48a9-9a4c-58bc6f62b3ce"
      },
      "source": [
        "df.hist(bins=10,figsize=[20,20],grid=False,color=\"cyan\")"
      ],
      "execution_count": null,
      "outputs": [
        {
          "output_type": "execute_result",
          "data": {
            "text/plain": [
              "array([[<matplotlib.axes._subplots.AxesSubplot object at 0x7f46fb5fe4e0>,\n",
              "        <matplotlib.axes._subplots.AxesSubplot object at 0x7f46fb5ad780>],\n",
              "       [<matplotlib.axes._subplots.AxesSubplot object at 0x7f46fb5629e8>,\n",
              "        <matplotlib.axes._subplots.AxesSubplot object at 0x7f46fb517c50>]],\n",
              "      dtype=object)"
            ]
          },
          "metadata": {
            "tags": []
          },
          "execution_count": 18
        },
        {
          "output_type": "display_data",
          "data": {
            "image/png": "[encoded data removed]",
            "text/plain": [
              "<Figure size 1440x1440 with 4 Axes>"
            ]
          },
          "metadata": {
            "tags": [],
            "needs_background": "light"
          }
        }
      ]
    },
    {
      "cell_type": "code",
      "metadata": {
        "id": "cI-oxIOKdk3B",
        "colab": {
          "base_uri": "https://localhost:8080/",
          "height": 612
        },
        "outputId": "2e0da396-d571-47fe-bbb0-fb69e551870e"
      },
      "source": [
        "#visualize the correlation\n",
        "plt.figure(figsize=(10,10))\n",
        "sns.heatmap(df.iloc[:,1:6].corr(),annot=True,fmt='.0%')"
      ],
      "execution_count": null,
      "outputs": [
        {
          "output_type": "execute_result",
          "data": {
            "text/plain": [
              "<matplotlib.axes._subplots.AxesSubplot at 0x7f46fb4057b8>"
            ]
          },
          "metadata": {
            "tags": []
          },
          "execution_count": 19
        },
        {
          "output_type": "display_data",
          "data": {
            "image/png": "[encoded data removed]",
            "text/plain": [
              "<Figure size 720x720 with 2 Axes>"
            ]
          },
          "metadata": {
            "tags": [],
            "needs_background": "light"
          }
        }
      ]
    },
    {
      "cell_type": "code",
      "metadata": {
        "id": "XgkR3J52drEA",
        "colab": {
          "base_uri": "https://localhost:8080/",
          "height": 742
        },
        "outputId": "0fc96731-c8b7-42be-d0b2-237915cf190e"
      },
      "source": [
        "#create a pair plot\n",
        "sns.pairplot(df.iloc[:,1:5])"
      ],
      "execution_count": null,
      "outputs": [
        {
          "output_type": "execute_result",
          "data": {
            "text/plain": [
              "<seaborn.axisgrid.PairGrid at 0x7f46fb471cf8>"
            ]
          },
          "metadata": {
            "tags": []
          },
          "execution_count": 20
        },
        {
          "output_type": "display_data",
          "data": {
            "image/png": "[encoded data removed]",
            "text/plain": [
              "<Figure size 720x720 with 20 Axes>"
            ]
          },
          "metadata": {
            "tags": [],
            "needs_background": "light"
          }
        }
      ]
    },
    {
      "cell_type": "code",
      "metadata": {
        "id": "tPNmGpXxvs9w"
      },
      "source": [
        "df['Type']=df.Type.map(dict(Quality=0, Spam=1))"
      ],
      "execution_count": null,
      "outputs": []
    },
    {
      "cell_type": "code",
      "metadata": {
        "colab": {
          "base_uri": "https://localhost:8080/"
        },
        "id": "yg6Pi6TCHufq",
        "outputId": "e6fa5fe2-7901-4c63-de1b-46c7a2ef74b5"
      },
      "source": [
        "type(df['Type'])"
      ],
      "execution_count": null,
      "outputs": [
        {
          "output_type": "execute_result",
          "data": {
            "text/plain": [
              "pandas.core.series.Series"
            ]
          },
          "metadata": {
            "tags": []
          },
          "execution_count": 85
        }
      ]
    },
    {
      "cell_type": "code",
      "metadata": {
        "id": "9g84K72zdxr1",
        "colab": {
          "base_uri": "https://localhost:8080/",
          "height": 191
        },
        "outputId": "094730db-b646-4dd0-d99a-b0d9c359cdc0"
      },
      "source": [
        "#correlation of cols\n",
        "df.iloc[:,1:7].corr()"
      ],
      "execution_count": null,
      "outputs": [
        {
          "output_type": "execute_result",
          "data": {
            "text/html": [
              "<div>\n",
              "<style scoped>\n",
              "    .dataframe tbody tr th:only-of-type {\n",
              "        vertical-align: middle;\n",
              "    }\n",
              "\n",
              "    .dataframe tbody tr th {\n",
              "        vertical-align: top;\n",
              "    }\n",
              "\n",
              "    .dataframe thead th {\n",
              "        text-align: right;\n",
              "    }\n",
              "</style>\n",
              "<table border=\"1\" class=\"dataframe\">\n",
              "  <thead>\n",
              "    <tr style=\"text-align: right;\">\n",
              "      <th></th>\n",
              "      <th>following</th>\n",
              "      <th>followers</th>\n",
              "      <th>actions</th>\n",
              "      <th>is_retweet</th>\n",
              "      <th>Type</th>\n",
              "    </tr>\n",
              "  </thead>\n",
              "  <tbody>\n",
              "    <tr>\n",
              "      <th>following</th>\n",
              "      <td>1.000000</td>\n",
              "      <td>0.185139</td>\n",
              "      <td>0.022568</td>\n",
              "      <td>-0.048042</td>\n",
              "      <td>0.003745</td>\n",
              "    </tr>\n",
              "    <tr>\n",
              "      <th>followers</th>\n",
              "      <td>0.185139</td>\n",
              "      <td>1.000000</td>\n",
              "      <td>-0.006081</td>\n",
              "      <td>-0.034664</td>\n",
              "      <td>-0.088790</td>\n",
              "    </tr>\n",
              "    <tr>\n",
              "      <th>actions</th>\n",
              "      <td>0.022568</td>\n",
              "      <td>-0.006081</td>\n",
              "      <td>1.000000</td>\n",
              "      <td>0.044485</td>\n",
              "      <td>0.268534</td>\n",
              "    </tr>\n",
              "    <tr>\n",
              "      <th>is_retweet</th>\n",
              "      <td>-0.048042</td>\n",
              "      <td>-0.034664</td>\n",
              "      <td>0.044485</td>\n",
              "      <td>1.000000</td>\n",
              "      <td>0.374575</td>\n",
              "    </tr>\n",
              "    <tr>\n",
              "      <th>Type</th>\n",
              "      <td>0.003745</td>\n",
              "      <td>-0.088790</td>\n",
              "      <td>0.268534</td>\n",
              "      <td>0.374575</td>\n",
              "      <td>1.000000</td>\n",
              "    </tr>\n",
              "  </tbody>\n",
              "</table>\n",
              "</div>"
            ],
            "text/plain": [
              "            following  followers   actions  is_retweet      Type\n",
              "following    1.000000   0.185139  0.022568   -0.048042  0.003745\n",
              "followers    0.185139   1.000000 -0.006081   -0.034664 -0.088790\n",
              "actions      0.022568  -0.006081  1.000000    0.044485  0.268534\n",
              "is_retweet  -0.048042  -0.034664  0.044485    1.000000  0.374575\n",
              "Type         0.003745  -0.088790  0.268534    0.374575  1.000000"
            ]
          },
          "metadata": {
            "tags": []
          },
          "execution_count": 11
        }
      ]
    },
    {
      "cell_type": "markdown",
      "metadata": {
        "id": "wPgWUVlyVfZ8"
      },
      "source": [
        "**Import Required Libraries from NLTK**"
      ]
    },
    {
      "cell_type": "code",
      "metadata": {
        "id": "dxvI____vwm3",
        "colab": {
          "base_uri": "https://localhost:8080/"
        },
        "outputId": "609f0b98-f8ab-4800-ca81-46b2d92ee428"
      },
      "source": [
        "import pandas as pd # our main data management package\n",
        "import matplotlib.pyplot as plt # our main display package\n",
        "import string # used for preprocessing\n",
        "import re # used for preprocessing\n",
        "import nltk # the Natural Language Toolkit, used for preprocessing\n",
        "import numpy as np # used for managing NaNs\n",
        "import nltk\n",
        "from nltk.tokenize import word_tokenize\n",
        "from nltk.corpus import stopwords # used for preprocessing\n",
        "from nltk.stem import WordNetLemmatizer # used for preprocessing\n",
        "from sklearn.feature_extraction.text import TfidfVectorizer\n",
        "from sklearn.linear_model import LogisticRegression # our model\n",
        "from sklearn.model_selection import train_test_split\n",
        "nltk.download('stopwords')\n",
        "nltk.download('wordnet')\n",
        "nltk.download('punkt')"
      ],
      "execution_count": null,
      "outputs": [
        {
          "output_type": "stream",
          "text": [
            "[nltk_data] Downloading package stopwords to /root/nltk_data...\n",
            "[nltk_data]   Package stopwords is already up-to-date!\n",
            "[nltk_data] Downloading package wordnet to /root/nltk_data...\n",
            "[nltk_data]   Package wordnet is already up-to-date!\n",
            "[nltk_data] Downloading package punkt to /root/nltk_data...\n",
            "[nltk_data]   Package punkt is already up-to-date!\n"
          ],
          "name": "stdout"
        },
        {
          "output_type": "execute_result",
          "data": {
            "text/plain": [
              "True"
            ]
          },
          "metadata": {
            "tags": []
          },
          "execution_count": 12
        }
      ]
    },
    {
      "cell_type": "code",
      "metadata": {
        "id": "XHCYR_1Gif3s"
      },
      "source": [
        "### Vocabulary size\n",
        "voc_size=5000"
      ],
      "execution_count": null,
      "outputs": []
    },
    {
      "cell_type": "code",
      "metadata": {
        "id": "f5ip-c-2jGpD"
      },
      "source": [
        "y=df['Type']\n",
        "x=df[['Tweet', 'following', 'followers', 'actions', 'is_retweet', 'location']]"
      ],
      "execution_count": null,
      "outputs": []
    },
    {
      "cell_type": "code",
      "metadata": {
        "id": "0qM4vwB-jGmD"
      },
      "source": [
        "import tensorflow as tf"
      ],
      "execution_count": null,
      "outputs": []
    },
    {
      "cell_type": "code",
      "metadata": {
        "id": "CUxxFygcjGis",
        "colab": {
          "base_uri": "https://localhost:8080/",
          "height": 35
        },
        "outputId": "bcf460f5-3619-4c9d-f3c5-87417931c514"
      },
      "source": [
        "messages=x.copy()\n",
        "messages['Tweet'][1]"
      ],
      "execution_count": null,
      "outputs": [
        {
          "output_type": "execute_result",
          "data": {
            "application/vnd.google.colaboratory.intrinsic+json": {
              "type": "string"
            },
            "text/plain": [
              "\"'@realDonaldTrump @USNavy RIP TO HEROES'\""
            ]
          },
          "metadata": {
            "tags": []
          },
          "execution_count": 16
        }
      ]
    },
    {
      "cell_type": "code",
      "metadata": {
        "id": "YlgTM0njif1J"
      },
      "source": [
        "messages.reset_index(inplace=True)"
      ],
      "execution_count": null,
      "outputs": []
    },
    {
      "cell_type": "markdown",
      "metadata": {
        "id": "ASGvkqfeV0s2"
      },
      "source": [
        "**Text Preprocessing**"
      ]
    },
    {
      "cell_type": "code",
      "metadata": {
        "id": "CdvJPq0Yifvr"
      },
      "source": [
        "### Dataset Preprocessing\n",
        "from nltk.stem.porter import PorterStemmer\n",
        "ps = PorterStemmer()\n",
        "corpus = []\n",
        "for i in range(0, len(messages)):\n",
        "    review = re.sub('[^a-zA-Z]', ' ', messages['Tweet'][i])\n",
        "    review = review.lower()\n",
        "    review = review.split()\n",
        "\n",
        "    review = [ps.stem(word) for word in review if not word in stopwords.words('english')]\n",
        "    review = ' '.join(review)\n",
        "    corpus.append(review)"
      ],
      "execution_count": null,
      "outputs": []
    },
    {
      "cell_type": "code",
      "metadata": {
        "id": "1KZziLyMj4ZU"
      },
      "source": [
        "from tensorflow.keras.layers import Embedding\n",
        "from tensorflow.keras.preprocessing.sequence import pad_sequences\n",
        "from tensorflow.keras.preprocessing.text import one_hot"
      ],
      "execution_count": null,
      "outputs": []
    },
    {
      "cell_type": "code",
      "metadata": {
        "id": "zjEG9uiUj4hT",
        "colab": {
          "base_uri": "https://localhost:8080/"
        },
        "outputId": "ed10baf2-6895-44ad-de3e-271b357d55d7"
      },
      "source": [
        "onehot_repr=[one_hot(words,voc_size)for words in corpus]\n",
        "onehot_repr[:5]"
      ],
      "execution_count": null,
      "outputs": [
        {
          "output_type": "execute_result",
          "data": {
            "text/plain": [
              "[[870, 1410, 2518, 3586, 368],\n",
              " [772, 3558, 3461, 2818],\n",
              " [1884, 3784, 2285, 993, 596, 3130],\n",
              " [3286,\n",
              "  1728,\n",
              "  513,\n",
              "  3563,\n",
              "  3181,\n",
              "  26,\n",
              "  3847,\n",
              "  1379,\n",
              "  4275,\n",
              "  4410,\n",
              "  1252,\n",
              "  513,\n",
              "  278,\n",
              "  1439,\n",
              "  3847,\n",
              "  1661,\n",
              "  1899,\n",
              "  767,\n",
              "  1578],\n",
              " [3131, 2075, 2791, 3993, 4641, 730, 155, 280, 4390, 2782]]"
            ]
          },
          "metadata": {
            "tags": []
          },
          "execution_count": 20
        }
      ]
    },
    {
      "cell_type": "code",
      "metadata": {
        "id": "8HcTPglbkAcl",
        "colab": {
          "base_uri": "https://localhost:8080/"
        },
        "outputId": "16670a9c-3182-4e94-e357-aae9017b814f"
      },
      "source": [
        "sent_length=20\n",
        "embedded_docs=pad_sequences(onehot_repr,padding='pre',maxlen=sent_length)\n",
        "print(embedded_docs)"
      ],
      "execution_count": null,
      "outputs": [
        {
          "output_type": "stream",
          "text": [
            "[[   0    0    0 ... 2518 3586  368]\n",
            " [   0    0    0 ... 3558 3461 2818]\n",
            " [   0    0    0 ...  993  596 3130]\n",
            " ...\n",
            " [   0    0    0 ... 4468 1571 4003]\n",
            " [   0    0    0 ... 4046 2418  870]\n",
            " [   0    0    0 ... 3815 2338  300]]\n"
          ],
          "name": "stdout"
        }
      ]
    },
    {
      "cell_type": "markdown",
      "metadata": {
        "id": "4i8y0rnEWcHO"
      },
      "source": [
        "**Splitting data into Training and Testing subsets**"
      ]
    },
    {
      "cell_type": "code",
      "metadata": {
        "id": "jE0xs0jokAZc"
      },
      "source": [
        "from sklearn.model_selection import train_test_split\n",
        "xtrain,xtest,ytrain,ytest=train_test_split(embedded_docs,y,test_size=0.33,random_state=42)"
      ],
      "execution_count": null,
      "outputs": []
    },
    {
      "cell_type": "markdown",
      "metadata": {
        "id": "gEIqDSD2W2A7"
      },
      "source": [
        "**MODEL BUILDING USING DATA MINING CLASSIFICATION TECHNIQUES**"
      ]
    },
    {
      "cell_type": "markdown",
      "metadata": {
        "id": "Xase4owxmv40"
      },
      "source": [
        "**Random Forest**"
      ]
    },
    {
      "cell_type": "code",
      "metadata": {
        "id": "P-L-V-uHkAXF"
      },
      "source": [
        "from sklearn.ensemble import RandomForestClassifier\n",
        "d= RandomForestClassifier(n_estimators=2000,criterion='entropy',random_state=20)"
      ],
      "execution_count": null,
      "outputs": []
    },
    {
      "cell_type": "code",
      "metadata": {
        "id": "iy5GPCVdkO-S",
        "colab": {
          "base_uri": "https://localhost:8080/"
        },
        "outputId": "a653cee5-9b5d-4d34-e61f-e48d08ff1ebe"
      },
      "source": [
        "d.fit(xtrain,ytrain)"
      ],
      "execution_count": null,
      "outputs": [
        {
          "output_type": "execute_result",
          "data": {
            "text/plain": [
              "RandomForestClassifier(bootstrap=True, ccp_alpha=0.0, class_weight=None,\n",
              "                       criterion='entropy', max_depth=None, max_features='auto',\n",
              "                       max_leaf_nodes=None, max_samples=None,\n",
              "                       min_impurity_decrease=0.0, min_impurity_split=None,\n",
              "                       min_samples_leaf=1, min_samples_split=2,\n",
              "                       min_weight_fraction_leaf=0.0, n_estimators=2000,\n",
              "                       n_jobs=None, oob_score=False, random_state=20, verbose=0,\n",
              "                       warm_start=False)"
            ]
          },
          "metadata": {
            "tags": []
          },
          "execution_count": 28
        }
      ]
    },
    {
      "cell_type": "code",
      "metadata": {
        "id": "U0UQiKYskO7k"
      },
      "source": [
        "ypre=d.predict(xtest)"
      ],
      "execution_count": null,
      "outputs": []
    },
    {
      "cell_type": "code",
      "metadata": {
        "id": "a56mCT5XkAUs",
        "colab": {
          "base_uri": "https://localhost:8080/"
        },
        "outputId": "612c04b8-d53d-488e-b528-d13224d2d9a0"
      },
      "source": [
        "from sklearn.metrics import accuracy_score\n",
        "accuracy_score(ytest,ypre)"
      ],
      "execution_count": null,
      "outputs": [
        {
          "output_type": "execute_result",
          "data": {
            "text/plain": [
              "0.8214358348586537"
            ]
          },
          "metadata": {
            "tags": []
          },
          "execution_count": 30
        }
      ]
    },
    {
      "cell_type": "code",
      "metadata": {
        "id": "jhVeohjBlibE",
        "colab": {
          "base_uri": "https://localhost:8080/"
        },
        "outputId": "ee4d7e11-424f-4511-f23e-401c1d460055"
      },
      "source": [
        "from sklearn.metrics import confusion_matrix\n",
        "confusion_matrix(ytest,ypre)"
      ],
      "execution_count": null,
      "outputs": [
        {
          "output_type": "execute_result",
          "data": {
            "text/plain": [
              "array([[2162,  339],\n",
              "       [ 539, 1877]])"
            ]
          },
          "metadata": {
            "tags": []
          },
          "execution_count": 31
        }
      ]
    },
    {
      "cell_type": "code",
      "metadata": {
        "id": "59MnJ4Gdj4XT",
        "colab": {
          "base_uri": "https://localhost:8080/"
        },
        "outputId": "f3e0eaf1-caba-4f15-d2cd-ab4a61a39345"
      },
      "source": [
        "from sklearn import metrics\n",
        "from sklearn.metrics import accuracy_score\n",
        "print('Accuracy: ',accuracy_score(ytest,ypre))\n",
        "print(metrics.classification_report(ytest,ypre))"
      ],
      "execution_count": null,
      "outputs": [
        {
          "output_type": "stream",
          "text": [
            "Accuracy:  0.8214358348586537\n",
            "              precision    recall  f1-score   support\n",
            "\n",
            "           0       0.80      0.86      0.83      2501\n",
            "           1       0.85      0.78      0.81      2416\n",
            "\n",
            "    accuracy                           0.82      4917\n",
            "   macro avg       0.82      0.82      0.82      4917\n",
            "weighted avg       0.82      0.82      0.82      4917\n",
            "\n"
          ],
          "name": "stdout"
        }
      ]
    },
    {
      "cell_type": "markdown",
      "metadata": {
        "id": "9yxe8Nwdmn4u"
      },
      "source": [
        "**Naive Bayes**"
      ]
    },
    {
      "cell_type": "code",
      "metadata": {
        "id": "kHYhjDYCkgmK"
      },
      "source": [
        "from sklearn.naive_bayes import MultinomialNB\n",
        "clf=MultinomialNB().fit(xtrain,ytrain)"
      ],
      "execution_count": null,
      "outputs": []
    },
    {
      "cell_type": "code",
      "metadata": {
        "id": "ENbglpnSkgj6"
      },
      "source": [
        "predicted=clf.predict(xtest)"
      ],
      "execution_count": null,
      "outputs": []
    },
    {
      "cell_type": "code",
      "metadata": {
        "id": "VpsCv7qXXWyW",
        "colab": {
          "base_uri": "https://localhost:8080/"
        },
        "outputId": "1296799a-168c-4fda-a942-6321d56919d1"
      },
      "source": [
        "from sklearn.metrics import confusion_matrix\n",
        "confusion_matrix(ytest,predicted)"
      ],
      "execution_count": null,
      "outputs": [
        {
          "output_type": "execute_result",
          "data": {
            "text/plain": [
              "array([[1280, 1221],\n",
              "       [ 724, 1692]])"
            ]
          },
          "metadata": {
            "tags": []
          },
          "execution_count": 35
        }
      ]
    },
    {
      "cell_type": "code",
      "metadata": {
        "id": "6cfT-mXUkgiK",
        "colab": {
          "base_uri": "https://localhost:8080/"
        },
        "outputId": "f0ecc25d-5a1d-4e6e-9f85-5e6b3cd3f4d0"
      },
      "source": [
        "print('Accuracy: ',accuracy_score(ytest,predicted))\n",
        "print(metrics.classification_report(ytest,predicted))"
      ],
      "execution_count": null,
      "outputs": [
        {
          "output_type": "stream",
          "text": [
            "Accuracy:  0.6044335977221883\n",
            "              precision    recall  f1-score   support\n",
            "\n",
            "           0       0.64      0.51      0.57      2501\n",
            "           1       0.58      0.70      0.64      2416\n",
            "\n",
            "    accuracy                           0.60      4917\n",
            "   macro avg       0.61      0.61      0.60      4917\n",
            "weighted avg       0.61      0.60      0.60      4917\n",
            "\n"
          ],
          "name": "stdout"
        }
      ]
    },
    {
      "cell_type": "markdown",
      "metadata": {
        "id": "vP6vElqCm7Aw"
      },
      "source": [
        "**Decision Tree**"
      ]
    },
    {
      "cell_type": "code",
      "metadata": {
        "id": "XyvWFHAykgZu"
      },
      "source": [
        "from sklearn.tree import DecisionTreeClassifier\n",
        "dtree=DecisionTreeClassifier(criterion='entropy',random_state=110)\n"
      ],
      "execution_count": null,
      "outputs": []
    },
    {
      "cell_type": "markdown",
      "metadata": {
        "id": "IbmmAisBe6Ve"
      },
      "source": []
    },
    {
      "cell_type": "code",
      "metadata": {
        "id": "Nz3fZ2WYm3mN",
        "colab": {
          "base_uri": "https://localhost:8080/"
        },
        "outputId": "84b5ee4b-8815-4e18-deed-8a7cccb2569f"
      },
      "source": [
        "dtree.fit(xtrain,ytrain)"
      ],
      "execution_count": null,
      "outputs": [
        {
          "output_type": "execute_result",
          "data": {
            "text/plain": [
              "DecisionTreeClassifier(ccp_alpha=0.0, class_weight=None, criterion='entropy',\n",
              "                       max_depth=None, max_features=None, max_leaf_nodes=None,\n",
              "                       min_impurity_decrease=0.0, min_impurity_split=None,\n",
              "                       min_samples_leaf=1, min_samples_split=2,\n",
              "                       min_weight_fraction_leaf=0.0, presort='deprecated',\n",
              "                       random_state=110, splitter='best')"
            ]
          },
          "metadata": {
            "tags": []
          },
          "execution_count": 67
        }
      ]
    },
    {
      "cell_type": "code",
      "metadata": {
        "id": "0OH2FBMXm3jb",
        "colab": {
          "base_uri": "https://localhost:8080/"
        },
        "outputId": "59b1a4ce-54f1-43a8-8589-a965f2e4247b"
      },
      "source": [
        "ypredtree=dtree.predict(xtest)\n",
        "accuracy_score(ytest,ypredtree)"
      ],
      "execution_count": null,
      "outputs": [
        {
          "output_type": "execute_result",
          "data": {
            "text/plain": [
              "0.8000813504169209"
            ]
          },
          "metadata": {
            "tags": []
          },
          "execution_count": 68
        }
      ]
    },
    {
      "cell_type": "code",
      "metadata": {
        "id": "a40aMOg6XiBu",
        "colab": {
          "base_uri": "https://localhost:8080/"
        },
        "outputId": "37bf9d24-6bba-4973-82e3-e797bc09f152"
      },
      "source": [
        "from sklearn.metrics import confusion_matrix\n",
        "confusion_matrix(ytest,ypredtree)"
      ],
      "execution_count": null,
      "outputs": [
        {
          "output_type": "execute_result",
          "data": {
            "text/plain": [
              "array([[2002,  499],\n",
              "       [ 484, 1932]])"
            ]
          },
          "metadata": {
            "tags": []
          },
          "execution_count": 69
        }
      ]
    },
    {
      "cell_type": "code",
      "metadata": {
        "id": "HXDnZK1Octqx",
        "colab": {
          "base_uri": "https://localhost:8080/"
        },
        "outputId": "93630823-75d3-48e2-a913-db76337e0206"
      },
      "source": [
        "print('Accuracy: ',accuracy_score(ytest,ypredtree))\n",
        "print(metrics.classification_report(ytest,ypredtree))"
      ],
      "execution_count": null,
      "outputs": [
        {
          "output_type": "stream",
          "text": [
            "Accuracy:  0.7972340858246898\n",
            "              precision    recall  f1-score   support\n",
            "\n",
            "           0       0.80      0.80      0.80      2501\n",
            "           1       0.79      0.80      0.79      2416\n",
            "\n",
            "    accuracy                           0.80      4917\n",
            "   macro avg       0.80      0.80      0.80      4917\n",
            "weighted avg       0.80      0.80      0.80      4917\n",
            "\n"
          ],
          "name": "stdout"
        }
      ]
    },
    {
      "cell_type": "markdown",
      "metadata": {
        "id": "I-Cw1qeyc5CZ"
      },
      "source": [
        "**Logistic Regression**"
      ]
    },
    {
      "cell_type": "code",
      "metadata": {
        "id": "5YwYBjlyj4U0",
        "colab": {
          "base_uri": "https://localhost:8080/"
        },
        "outputId": "ed271d91-f199-4d15-d51e-bfff98dc21f9"
      },
      "source": [
        "from sklearn.linear_model import LogisticRegression\n",
        "log=LogisticRegression(random_state=0)\n",
        "log.fit(xtrain,ytrain)"
      ],
      "execution_count": null,
      "outputs": [
        {
          "output_type": "execute_result",
          "data": {
            "text/plain": [
              "LogisticRegression(C=1.0, class_weight=None, dual=False, fit_intercept=True,\n",
              "                   intercept_scaling=1, l1_ratio=None, max_iter=100,\n",
              "                   multi_class='auto', n_jobs=None, penalty='l2',\n",
              "                   random_state=0, solver='lbfgs', tol=0.0001, verbose=0,\n",
              "                   warm_start=False)"
            ]
          },
          "metadata": {
            "tags": []
          },
          "execution_count": 42
        }
      ]
    },
    {
      "cell_type": "code",
      "metadata": {
        "id": "Qc04xPzMj4SQ"
      },
      "source": [
        "ypredlog=log.predict(xtest)"
      ],
      "execution_count": null,
      "outputs": []
    },
    {
      "cell_type": "code",
      "metadata": {
        "id": "kZ7c2sRzifq-",
        "colab": {
          "base_uri": "https://localhost:8080/"
        },
        "outputId": "e4628707-ec3c-42d7-c408-29e3779d2422"
      },
      "source": [
        "ypredlog"
      ],
      "execution_count": null,
      "outputs": [
        {
          "output_type": "execute_result",
          "data": {
            "text/plain": [
              "array([0, 1, 0, ..., 1, 0, 1])"
            ]
          },
          "metadata": {
            "tags": []
          },
          "execution_count": 44
        }
      ]
    },
    {
      "cell_type": "code",
      "metadata": {
        "id": "Bcl0OQo2S9d-",
        "colab": {
          "base_uri": "https://localhost:8080/"
        },
        "outputId": "5780d87f-5bf5-4b10-b552-990854fa936e"
      },
      "source": [
        "accuracy_score(ytest,ypredlog)"
      ],
      "execution_count": null,
      "outputs": [
        {
          "output_type": "execute_result",
          "data": {
            "text/plain": [
              "0.6176530404718324"
            ]
          },
          "metadata": {
            "tags": []
          },
          "execution_count": 45
        }
      ]
    },
    {
      "cell_type": "code",
      "metadata": {
        "id": "G6oYWAdydE8H",
        "colab": {
          "base_uri": "https://localhost:8080/"
        },
        "outputId": "c848d956-5285-468c-a887-179afc92278e"
      },
      "source": [
        "from sklearn.metrics import confusion_matrix\n",
        "confusion_matrix(ytest,ypredlog)"
      ],
      "execution_count": null,
      "outputs": [
        {
          "output_type": "execute_result",
          "data": {
            "text/plain": [
              "array([[1300, 1201],\n",
              "       [ 679, 1737]])"
            ]
          },
          "metadata": {
            "tags": []
          },
          "execution_count": 46
        }
      ]
    },
    {
      "cell_type": "code",
      "metadata": {
        "id": "dtn8T66kS9bG",
        "colab": {
          "base_uri": "https://localhost:8080/"
        },
        "outputId": "f93a75f4-e56f-490d-9289-a1f683ea7357"
      },
      "source": [
        "from sklearn import metrics\n",
        "from sklearn.metrics import accuracy_score\n",
        "print('Accuracy: ',accuracy_score(ytest,ypredlog))\n",
        "print(metrics.classification_report(ytest,ypredlog))"
      ],
      "execution_count": null,
      "outputs": [
        {
          "output_type": "stream",
          "text": [
            "Accuracy:  0.6176530404718324\n",
            "              precision    recall  f1-score   support\n",
            "\n",
            "           0       0.66      0.52      0.58      2501\n",
            "           1       0.59      0.72      0.65      2416\n",
            "\n",
            "    accuracy                           0.62      4917\n",
            "   macro avg       0.62      0.62      0.61      4917\n",
            "weighted avg       0.62      0.62      0.61      4917\n",
            "\n"
          ],
          "name": "stdout"
        }
      ]
    },
    {
      "cell_type": "markdown",
      "metadata": {
        "id": "SHSpGz3ty2vo"
      },
      "source": []
    },
    {
      "cell_type": "code",
      "metadata": {
        "id": "McO9eGRAu7ui"
      },
      "source": [],
      "execution_count": null,
      "outputs": []
    },
    {
      "cell_type": "code",
      "metadata": {
        "id": "dbFmc-J4-uJO"
      },
      "source": [
        "import os\n",
        "import tweepy as tw\n",
        "import pandas as pd"
      ],
      "execution_count": null,
      "outputs": []
    },
    {
      "cell_type": "code",
      "metadata": {
        "id": "vB72TMQY-xk4"
      },
      "source": [
        "consumer_key= 'qwpUugHsTcoxDniUvlTYJmHzy'\n",
        "consumer_secret= 'MhQe3H4QLUxL2JVSQ2M7eB6IMv1tf4eOMu6MMViMDYZi7k5r55'\n",
        "access_token= '1322563941843628032-y3bEMCWrOMbNuPdIv1Y61zVEsHywpQ'\n",
        "access_token_secret= 'Oj4PSeK8w2vui4IZr64dmIjFLDInNv3yRKtXxrLDEFull'"
      ],
      "execution_count": null,
      "outputs": []
    },
    {
      "cell_type": "code",
      "metadata": {
        "id": "R96P_VEG-zsH"
      },
      "source": [
        "auth = tw.OAuthHandler(consumer_key, consumer_secret)\n",
        "auth.set_access_token(access_token, access_token_secret)\n",
        "api = tw.API(auth, wait_on_rate_limit=True)"
      ],
      "execution_count": null,
      "outputs": []
    },
    {
      "cell_type": "code",
      "metadata": {
        "id": "CvwEhTn5-2D1"
      },
      "source": [
        "# Define the search term and the date_since date as variables\n",
        "search_words = \"#Trump \"\n",
        "date_since = \"2008-01-01\""
      ],
      "execution_count": null,
      "outputs": []
    },
    {
      "cell_type": "code",
      "metadata": {
        "colab": {
          "base_uri": "https://localhost:8080/"
        },
        "id": "PWB6eFJs-4c7",
        "outputId": "820367e6-3c61-4632-c428-2607371745dc"
      },
      "source": [
        "# Collect tweets\n",
        "tweets = tw.Cursor(api.search,\n",
        "              q=search_words,\n",
        "              lang=\"en\",\n",
        "              since=date_since).items(800)\n",
        "tweets"
      ],
      "execution_count": null,
      "outputs": [
        {
          "output_type": "execute_result",
          "data": {
            "text/plain": [
              "<tweepy.cursor.ItemIterator at 0x7f31821d0940>"
            ]
          },
          "metadata": {
            "tags": []
          },
          "execution_count": 181
        }
      ]
    },
    {
      "cell_type": "code",
      "metadata": {
        "colab": {
          "base_uri": "https://localhost:8080/",
          "height": 391
        },
        "id": "a6SHGMxg-8g2",
        "outputId": "fb71b856-aaad-4ce0-ea50-ed3cce14c0dc"
      },
      "source": [
        "\n",
        "# Iterate and print tweets\n",
        "msg=pd.DataFrame()\n",
        "l=[]\n",
        "'''\n",
        "for tweet in tweets:\n",
        "  print(tweet.text)'''\n",
        "for i in tweets:\n",
        "  l.append(i.text)\n",
        "msg=pd.DataFrame(l)\n",
        "msg.columns=['Text']\n",
        "msg"
      ],
      "execution_count": null,
      "outputs": [
        {
          "output_type": "execute_result",
          "data": {
            "text/html": [
              "<div>\n",
              "<style scoped>\n",
              "    .dataframe tbody tr th:only-of-type {\n",
              "        vertical-align: middle;\n",
              "    }\n",
              "\n",
              "    .dataframe tbody tr th {\n",
              "        vertical-align: top;\n",
              "    }\n",
              "\n",
              "    .dataframe thead th {\n",
              "        text-align: right;\n",
              "    }\n",
              "</style>\n",
              "<table border=\"1\" class=\"dataframe\">\n",
              "  <thead>\n",
              "    <tr style=\"text-align: right;\">\n",
              "      <th></th>\n",
              "      <th>Text</th>\n",
              "    </tr>\n",
              "  </thead>\n",
              "  <tbody>\n",
              "    <tr>\n",
              "      <th>0</th>\n",
              "      <td>The latest More @SteveBeste! https://t.co/s7D2...</td>\n",
              "    </tr>\n",
              "    <tr>\n",
              "      <th>1</th>\n",
              "      <td>RT @Tombx7M: @LLinWood @SidneyPowell1 \\nIf the...</td>\n",
              "    </tr>\n",
              "    <tr>\n",
              "      <th>2</th>\n",
              "      <td>RT @Tombx7M: @LLinWood @SidneyPowell1 \\nIf the...</td>\n",
              "    </tr>\n",
              "    <tr>\n",
              "      <th>3</th>\n",
              "      <td>#Trump is the last Realist political leader......</td>\n",
              "    </tr>\n",
              "    <tr>\n",
              "      <th>4</th>\n",
              "      <td>I thought America was great again #MAGA But I ...</td>\n",
              "    </tr>\n",
              "    <tr>\n",
              "      <th>...</th>\n",
              "      <td>...</td>\n",
              "    </tr>\n",
              "    <tr>\n",
              "      <th>795</th>\n",
              "      <td>RT @Laurie_Garrett: CONCEDE, MR. TRUMP. EVERY ...</td>\n",
              "    </tr>\n",
              "    <tr>\n",
              "      <th>796</th>\n",
              "      <td>#US President-elect Joe #Biden says that incum...</td>\n",
              "    </tr>\n",
              "    <tr>\n",
              "      <th>797</th>\n",
              "      <td>A Bull in the China Shop can only break so man...</td>\n",
              "    </tr>\n",
              "    <tr>\n",
              "      <th>798</th>\n",
              "      <td>RT @Dakotadamus: $10,000 cash give giveaway: I...</td>\n",
              "    </tr>\n",
              "    <tr>\n",
              "      <th>799</th>\n",
              "      <td>RT @OliviaTroye: #Trump “refusing to facilitat...</td>\n",
              "    </tr>\n",
              "  </tbody>\n",
              "</table>\n",
              "<p>800 rows × 1 columns</p>\n",
              "</div>"
            ],
            "text/plain": [
              "                                                  Text\n",
              "0    The latest More @SteveBeste! https://t.co/s7D2...\n",
              "1    RT @Tombx7M: @LLinWood @SidneyPowell1 \\nIf the...\n",
              "2    RT @Tombx7M: @LLinWood @SidneyPowell1 \\nIf the...\n",
              "3    #Trump is the last Realist political leader......\n",
              "4    I thought America was great again #MAGA But I ...\n",
              "..                                                 ...\n",
              "795  RT @Laurie_Garrett: CONCEDE, MR. TRUMP. EVERY ...\n",
              "796  #US President-elect Joe #Biden says that incum...\n",
              "797  A Bull in the China Shop can only break so man...\n",
              "798  RT @Dakotadamus: $10,000 cash give giveaway: I...\n",
              "799  RT @OliviaTroye: #Trump “refusing to facilitat...\n",
              "\n",
              "[800 rows x 1 columns]"
            ]
          },
          "metadata": {
            "tags": []
          },
          "execution_count": 182
        }
      ]
    },
    {
      "cell_type": "code",
      "metadata": {
        "id": "725EMfGB_FyE"
      },
      "source": [
        "### Dataset Preprocessing\n",
        "from nltk.stem.porter import PorterStemmer\n",
        "ps = PorterStemmer()\n",
        "crp = []\n",
        "for i in range(0, len(msg)):\n",
        "    review = re.sub('[^a-zA-Z]', ' ', msg['Text'][i])\n",
        "    review = review.lower()\n",
        "    review = review.split()\n",
        "\n",
        "    review = [ps.stem(word) for word in review if not word in stopwords.words('english')]\n",
        "    review = ' '.join(review)\n",
        "    crp.append(review)"
      ],
      "execution_count": null,
      "outputs": []
    },
    {
      "cell_type": "code",
      "metadata": {
        "colab": {
          "base_uri": "https://localhost:8080/"
        },
        "id": "QxaZVpCoF_jd",
        "outputId": "f102e2b1-62c2-4f3f-a882-6322479a4a78"
      },
      "source": [
        "onehot=[one_hot(words,voc_size)for words in crp]\n",
        "onehot[:5]"
      ],
      "execution_count": null,
      "outputs": [
        {
          "output_type": "execute_result",
          "data": {
            "text/plain": [
              "[[1265, 4454, 4410, 921, 1972, 4687, 4927, 4478, 360, 785],\n",
              " [4284, 952, 3998, 3766, 2127, 4811, 4138, 1653, 438, 2255, 62, 2127],\n",
              " [4284, 952, 3998, 3766, 2127, 4811, 4138, 1653, 438, 2255, 62, 2127],\n",
              " [785,\n",
              "  1737,\n",
              "  4448,\n",
              "  360,\n",
              "  2428,\n",
              "  438,\n",
              "  1501,\n",
              "  1970,\n",
              "  2125,\n",
              "  4003,\n",
              "  4410,\n",
              "  921,\n",
              "  4960,\n",
              "  4662,\n",
              "  3382],\n",
              " [4899,\n",
              "  1034,\n",
              "  1729,\n",
              "  4641,\n",
              "  4858,\n",
              "  4513,\n",
              "  4114,\n",
              "  3656,\n",
              "  3347,\n",
              "  543,\n",
              "  1440,\n",
              "  4410,\n",
              "  921,\n",
              "  699]]"
            ]
          },
          "metadata": {
            "tags": []
          },
          "execution_count": 184
        }
      ]
    },
    {
      "cell_type": "code",
      "metadata": {
        "colab": {
          "base_uri": "https://localhost:8080/"
        },
        "id": "2qx5OGNaGUbg",
        "outputId": "eb45588d-5728-4c56-cd58-090bf551fa3e"
      },
      "source": [
        "sent_length=20\n",
        "embedded_docs=pad_sequences(onehot,padding='pre',maxlen=sent_length)\n",
        "print(embedded_docs)"
      ],
      "execution_count": null,
      "outputs": [
        {
          "output_type": "stream",
          "text": [
            "[[   0    0    0 ... 4478  360  785]\n",
            " [   0    0    0 ... 2255   62 2127]\n",
            " [   0    0    0 ... 2255   62 2127]\n",
            " ...\n",
            " [   0    0    0 ... 4410  921 4854]\n",
            " [   0    0    0 ...  786 2768 4267]\n",
            " [   0    0    0 ... 1454  133 4624]]\n"
          ],
          "name": "stdout"
        }
      ]
    },
    {
      "cell_type": "code",
      "metadata": {
        "id": "1puFqi_kGacj"
      },
      "source": [
        "tweet_pred=d.predict(embedded_docs)"
      ],
      "execution_count": null,
      "outputs": []
    },
    {
      "cell_type": "code",
      "metadata": {
        "colab": {
          "base_uri": "https://localhost:8080/"
        },
        "id": "lZ4fSdpLGqYp",
        "outputId": "970a0f85-b2ba-490e-ba9c-e02c0d7558ce"
      },
      "source": [
        "tweet_pred"
      ],
      "execution_count": null,
      "outputs": [
        {
          "output_type": "execute_result",
          "data": {
            "text/plain": [
              "array([0, 0, 0, 1, 1, 1, 0, 0, 1, 1, 1, 0, 1, 1, 1, 0, 1, 1, 1, 1, 1, 1,\n",
              "       1, 0, 1, 0, 1, 1, 1, 1, 1, 1, 1, 1, 0, 1, 1, 0, 1, 1, 1, 1, 0, 0,\n",
              "       1, 1, 1, 1, 1, 1, 0, 0, 1, 1, 1, 1, 0, 1, 1, 1, 0, 1, 1, 1, 0, 1,\n",
              "       1, 1, 0, 1, 0, 1, 1, 1, 0, 0, 1, 1, 0, 1, 0, 0, 0, 0, 1, 1, 1, 1,\n",
              "       0, 1, 1, 1, 1, 1, 1, 1, 0, 1, 1, 0, 1, 0, 0, 1, 0, 0, 1, 1, 1, 1,\n",
              "       1, 1, 0, 1, 1, 1, 1, 0, 1, 1, 1, 1, 1, 0, 1, 1, 1, 1, 1, 1, 0, 1,\n",
              "       0, 0, 1, 1, 1, 1, 0, 1, 1, 1, 0, 1, 0, 1, 1, 1, 0, 1, 1, 0, 0, 1,\n",
              "       0, 1, 1, 1, 1, 1, 1, 1, 0, 0, 0, 0, 0, 1, 1, 1, 1, 0, 0, 1, 1, 1,\n",
              "       1, 1, 0, 1, 0, 0, 0, 1, 0, 1, 1, 1, 1, 1, 1, 1, 1, 1, 0, 1, 1, 1,\n",
              "       1, 1, 1, 1, 1, 1, 1, 1, 1, 0, 1, 1, 0, 1, 0, 1, 0, 1, 1, 0, 1, 0,\n",
              "       0, 1, 1, 1, 1, 1, 1, 1, 1, 1, 0, 0, 0, 1, 1, 1, 1, 0, 1, 1, 1, 0,\n",
              "       1, 1, 1, 1, 1, 0, 0, 1, 1, 0, 0, 0, 0, 1, 0, 0, 1, 1, 1, 1, 1, 1,\n",
              "       1, 1, 0, 0, 0, 1, 1, 0, 1, 0, 1, 1, 0, 1, 1, 1, 1, 0, 0, 1, 0, 1,\n",
              "       1, 0, 1, 0, 1, 1, 1, 1, 1, 1, 0, 1, 1, 1, 1, 1, 1, 1, 1, 1, 1, 1,\n",
              "       1, 0, 1, 0, 1, 1, 0, 1, 1, 1, 1, 1, 1, 1, 1, 1, 1, 1, 1, 1, 1, 1,\n",
              "       1, 1, 1, 0, 1, 1, 1, 1, 1, 1, 1, 1, 0, 1, 0, 1, 0, 1, 1, 1, 1, 1,\n",
              "       1, 0, 1, 1, 0, 1, 1, 1, 1, 0, 1, 1, 0, 1, 0, 1, 0, 1, 1, 1, 1, 1,\n",
              "       1, 0, 1, 1, 0, 1, 1, 1, 0, 1, 0, 1, 1, 0, 0, 0, 1, 1, 1, 0, 1, 0,\n",
              "       1, 1, 1, 0, 1, 0, 1, 0, 1, 0, 1, 1, 1, 0, 0, 0, 0, 1, 1, 1, 1, 0,\n",
              "       1, 1, 1, 1, 0, 1, 1, 0, 1, 0, 1, 0, 0, 0, 0, 0, 1, 1, 0, 0, 1, 1,\n",
              "       1, 0, 0, 1, 1, 1, 1, 1, 1, 0, 1, 1, 0, 1, 1, 1, 0, 1, 1, 1, 1, 1,\n",
              "       1, 1, 1, 1, 0, 1, 1, 1, 0, 0, 1, 1, 1, 1, 0, 1, 1, 1, 1, 1, 1, 1,\n",
              "       1, 0, 1, 0, 1, 1, 1, 1, 1, 1, 1, 1, 1, 0, 1, 0, 1, 1, 0, 1, 1, 1,\n",
              "       1, 0, 1, 1, 0, 1, 1, 1, 1, 0, 0, 1, 0, 1, 1, 1, 0, 1, 1, 1, 1, 1,\n",
              "       1, 0, 0, 1, 1, 1, 0, 0, 0, 0, 0, 1, 1, 1, 1, 1, 1, 0, 1, 1, 1, 1,\n",
              "       0, 1, 1, 0, 1, 1, 1, 0, 1, 0, 1, 1, 1, 1, 1, 1, 1, 1, 1, 0, 1, 1,\n",
              "       1, 0, 0, 1, 1, 1, 0, 1, 1, 0, 1, 1, 1, 1, 1, 0, 1, 0, 0, 1, 0, 0,\n",
              "       0, 1, 1, 1, 1, 1, 1, 1, 0, 0, 0, 0, 1, 0, 1, 1, 1, 1, 1, 1, 1, 1,\n",
              "       0, 1, 1, 0, 0, 1, 1, 1, 1, 1, 1, 1, 1, 1, 1, 1, 1, 0, 1, 1, 1, 1,\n",
              "       1, 0, 0, 1, 1, 0, 1, 1, 1, 1, 0, 0, 0, 0, 0, 0, 1, 1, 0, 0, 0, 1,\n",
              "       0, 0, 0, 0, 1, 1, 0, 1, 0, 0, 0, 1, 1, 0, 0, 0, 1, 1, 0, 1, 1, 1,\n",
              "       1, 0, 1, 0, 1, 0, 0, 1, 0, 0, 1, 1, 1, 0, 0, 1, 0, 1, 0, 0, 0, 1,\n",
              "       0, 1, 1, 0, 1, 1, 0, 0, 0, 0, 1, 1, 1, 0, 1, 0, 0, 1, 0, 0, 1, 1,\n",
              "       1, 0, 0, 1, 0, 0, 1, 1, 1, 1, 0, 0, 1, 1, 1, 1, 0, 0, 1, 0, 1, 0,\n",
              "       1, 0, 1, 1, 1, 0, 1, 1, 1, 0, 1, 1, 0, 0, 0, 1, 0, 0, 1, 1, 0, 0,\n",
              "       1, 1, 0, 0, 1, 1, 1, 1, 0, 0, 1, 1, 0, 0, 0, 0, 1, 1, 1, 1, 0, 1,\n",
              "       1, 0, 1, 0, 1, 1, 0, 0])"
            ]
          },
          "metadata": {
            "tags": []
          },
          "execution_count": 187
        }
      ]
    },
    {
      "cell_type": "code",
      "metadata": {
        "colab": {
          "base_uri": "https://localhost:8080/"
        },
        "id": "8t3KsKBYHO0K",
        "outputId": "0b0fd3c4-5327-4917-d6c1-6686cf2b275c"
      },
      "source": [
        "type(tweet_pred)\n"
      ],
      "execution_count": null,
      "outputs": [
        {
          "output_type": "execute_result",
          "data": {
            "text/plain": [
              "numpy.ndarray"
            ]
          },
          "metadata": {
            "tags": []
          },
          "execution_count": 188
        }
      ]
    },
    {
      "cell_type": "code",
      "metadata": {
        "id": "xyl-gtbuQ8h7"
      },
      "source": [],
      "execution_count": null,
      "outputs": []
    },
    {
      "cell_type": "code",
      "metadata": {
        "colab": {
          "base_uri": "https://localhost:8080/",
          "height": 333
        },
        "id": "4rVoDTRQQt4N",
        "outputId": "56ca2a1a-330c-483b-e103-64c49b94e074"
      },
      "source": [
        "sns.countplot(tweet_pred,label='count')"
      ],
      "execution_count": null,
      "outputs": [
        {
          "output_type": "stream",
          "text": [
            "/usr/local/lib/python3.6/dist-packages/seaborn/_decorators.py:43: FutureWarning: Pass the following variable as a keyword arg: x. From version 0.12, the only valid positional argument will be `data`, and passing other arguments without an explicit keyword will result in an error or misinterpretation.\n",
            "  FutureWarning\n"
          ],
          "name": "stderr"
        },
        {
          "output_type": "execute_result",
          "data": {
            "text/plain": [
              "<matplotlib.axes._subplots.AxesSubplot at 0x7f31828115f8>"
            ]
          },
          "metadata": {
            "tags": []
          },
          "execution_count": 189
        },
        {
          "output_type": "display_data",
          "data": {
            "image/png": "[encoded data removed]",
            "text/plain": [
              "<Figure size 432x288 with 1 Axes>"
            ]
          },
          "metadata": {
            "tags": [],
            "needs_background": "light"
          }
        }
      ]
    },
    {
      "cell_type": "code",
      "metadata": {
        "id": "Qww80_bUG8wt"
      },
      "source": [
        "tweet_prediction=pd.DataFrame(tweet_pred)\n",
        "tweet_prediction.columns=['Type']"
      ],
      "execution_count": null,
      "outputs": []
    },
    {
      "cell_type": "code",
      "metadata": {
        "colab": {
          "base_uri": "https://localhost:8080/",
          "height": 391
        },
        "id": "Gx-p8NqQKNqY",
        "outputId": "3629e43c-e8e9-4165-cd50-25e54f342692"
      },
      "source": [
        "tweet_prediction"
      ],
      "execution_count": null,
      "outputs": [
        {
          "output_type": "execute_result",
          "data": {
            "text/html": [
              "<div>\n",
              "<style scoped>\n",
              "    .dataframe tbody tr th:only-of-type {\n",
              "        vertical-align: middle;\n",
              "    }\n",
              "\n",
              "    .dataframe tbody tr th {\n",
              "        vertical-align: top;\n",
              "    }\n",
              "\n",
              "    .dataframe thead th {\n",
              "        text-align: right;\n",
              "    }\n",
              "</style>\n",
              "<table border=\"1\" class=\"dataframe\">\n",
              "  <thead>\n",
              "    <tr style=\"text-align: right;\">\n",
              "      <th></th>\n",
              "      <th>Type</th>\n",
              "    </tr>\n",
              "  </thead>\n",
              "  <tbody>\n",
              "    <tr>\n",
              "      <th>0</th>\n",
              "      <td>0</td>\n",
              "    </tr>\n",
              "    <tr>\n",
              "      <th>1</th>\n",
              "      <td>0</td>\n",
              "    </tr>\n",
              "    <tr>\n",
              "      <th>2</th>\n",
              "      <td>0</td>\n",
              "    </tr>\n",
              "    <tr>\n",
              "      <th>3</th>\n",
              "      <td>1</td>\n",
              "    </tr>\n",
              "    <tr>\n",
              "      <th>4</th>\n",
              "      <td>1</td>\n",
              "    </tr>\n",
              "    <tr>\n",
              "      <th>...</th>\n",
              "      <td>...</td>\n",
              "    </tr>\n",
              "    <tr>\n",
              "      <th>795</th>\n",
              "      <td>0</td>\n",
              "    </tr>\n",
              "    <tr>\n",
              "      <th>796</th>\n",
              "      <td>1</td>\n",
              "    </tr>\n",
              "    <tr>\n",
              "      <th>797</th>\n",
              "      <td>1</td>\n",
              "    </tr>\n",
              "    <tr>\n",
              "      <th>798</th>\n",
              "      <td>0</td>\n",
              "    </tr>\n",
              "    <tr>\n",
              "      <th>799</th>\n",
              "      <td>0</td>\n",
              "    </tr>\n",
              "  </tbody>\n",
              "</table>\n",
              "<p>800 rows × 1 columns</p>\n",
              "</div>"
            ],
            "text/plain": [
              "     Type\n",
              "0       0\n",
              "1       0\n",
              "2       0\n",
              "3       1\n",
              "4       1\n",
              "..    ...\n",
              "795     0\n",
              "796     1\n",
              "797     1\n",
              "798     0\n",
              "799     0\n",
              "\n",
              "[800 rows x 1 columns]"
            ]
          },
          "metadata": {
            "tags": []
          },
          "execution_count": 191
        }
      ]
    },
    {
      "cell_type": "code",
      "metadata": {
        "id": "efE5eKSrShtI"
      },
      "source": [],
      "execution_count": null,
      "outputs": []
    },
    {
      "cell_type": "code",
      "metadata": {
        "id": "eIh7zYq3KbqK"
      },
      "source": [
        "msg=pd.concat([msg, tweet_prediction], axis=1)"
      ],
      "execution_count": null,
      "outputs": []
    },
    {
      "cell_type": "code",
      "metadata": {
        "id": "3WRnrlMxSx0Z"
      },
      "source": [
        "msg['Type']=msg['Type'].apply(lambda x: 'Quality' if x == 0 else 'Spam' )"
      ],
      "execution_count": null,
      "outputs": []
    },
    {
      "cell_type": "code",
      "metadata": {
        "colab": {
          "base_uri": "https://localhost:8080/"
        },
        "id": "5LsGwFoGOaa3",
        "outputId": "ffd5608c-1b44-4eda-e10a-b472aeeba270"
      },
      "source": [
        "msg['Type']"
      ],
      "execution_count": null,
      "outputs": [
        {
          "output_type": "execute_result",
          "data": {
            "text/plain": [
              "0      Quality\n",
              "1      Quality\n",
              "2      Quality\n",
              "3         Spam\n",
              "4         Spam\n",
              "        ...   \n",
              "795    Quality\n",
              "796       Spam\n",
              "797       Spam\n",
              "798    Quality\n",
              "799    Quality\n",
              "Name: Type, Length: 800, dtype: object"
            ]
          },
          "metadata": {
            "tags": []
          },
          "execution_count": 194
        }
      ]
    },
    {
      "cell_type": "code",
      "metadata": {
        "colab": {
          "base_uri": "https://localhost:8080/",
          "height": 391
        },
        "id": "zRHK-kpbO7cD",
        "outputId": "8704dbc0-eaca-49c6-ac35-38bd3ee84050"
      },
      "source": [
        "msg"
      ],
      "execution_count": null,
      "outputs": [
        {
          "output_type": "execute_result",
          "data": {
            "text/html": [
              "<div>\n",
              "<style scoped>\n",
              "    .dataframe tbody tr th:only-of-type {\n",
              "        vertical-align: middle;\n",
              "    }\n",
              "\n",
              "    .dataframe tbody tr th {\n",
              "        vertical-align: top;\n",
              "    }\n",
              "\n",
              "    .dataframe thead th {\n",
              "        text-align: right;\n",
              "    }\n",
              "</style>\n",
              "<table border=\"1\" class=\"dataframe\">\n",
              "  <thead>\n",
              "    <tr style=\"text-align: right;\">\n",
              "      <th></th>\n",
              "      <th>Text</th>\n",
              "      <th>Type</th>\n",
              "    </tr>\n",
              "  </thead>\n",
              "  <tbody>\n",
              "    <tr>\n",
              "      <th>0</th>\n",
              "      <td>The latest More @SteveBeste! https://t.co/s7D2...</td>\n",
              "      <td>Quality</td>\n",
              "    </tr>\n",
              "    <tr>\n",
              "      <th>1</th>\n",
              "      <td>RT @Tombx7M: @LLinWood @SidneyPowell1 \\nIf the...</td>\n",
              "      <td>Quality</td>\n",
              "    </tr>\n",
              "    <tr>\n",
              "      <th>2</th>\n",
              "      <td>RT @Tombx7M: @LLinWood @SidneyPowell1 \\nIf the...</td>\n",
              "      <td>Quality</td>\n",
              "    </tr>\n",
              "    <tr>\n",
              "      <th>3</th>\n",
              "      <td>#Trump is the last Realist political leader......</td>\n",
              "      <td>Spam</td>\n",
              "    </tr>\n",
              "    <tr>\n",
              "      <th>4</th>\n",
              "      <td>I thought America was great again #MAGA But I ...</td>\n",
              "      <td>Spam</td>\n",
              "    </tr>\n",
              "    <tr>\n",
              "      <th>...</th>\n",
              "      <td>...</td>\n",
              "      <td>...</td>\n",
              "    </tr>\n",
              "    <tr>\n",
              "      <th>795</th>\n",
              "      <td>RT @Laurie_Garrett: CONCEDE, MR. TRUMP. EVERY ...</td>\n",
              "      <td>Quality</td>\n",
              "    </tr>\n",
              "    <tr>\n",
              "      <th>796</th>\n",
              "      <td>#US President-elect Joe #Biden says that incum...</td>\n",
              "      <td>Spam</td>\n",
              "    </tr>\n",
              "    <tr>\n",
              "      <th>797</th>\n",
              "      <td>A Bull in the China Shop can only break so man...</td>\n",
              "      <td>Spam</td>\n",
              "    </tr>\n",
              "    <tr>\n",
              "      <th>798</th>\n",
              "      <td>RT @Dakotadamus: $10,000 cash give giveaway: I...</td>\n",
              "      <td>Quality</td>\n",
              "    </tr>\n",
              "    <tr>\n",
              "      <th>799</th>\n",
              "      <td>RT @OliviaTroye: #Trump “refusing to facilitat...</td>\n",
              "      <td>Quality</td>\n",
              "    </tr>\n",
              "  </tbody>\n",
              "</table>\n",
              "<p>800 rows × 2 columns</p>\n",
              "</div>"
            ],
            "text/plain": [
              "                                                  Text     Type\n",
              "0    The latest More @SteveBeste! https://t.co/s7D2...  Quality\n",
              "1    RT @Tombx7M: @LLinWood @SidneyPowell1 \\nIf the...  Quality\n",
              "2    RT @Tombx7M: @LLinWood @SidneyPowell1 \\nIf the...  Quality\n",
              "3    #Trump is the last Realist political leader......     Spam\n",
              "4    I thought America was great again #MAGA But I ...     Spam\n",
              "..                                                 ...      ...\n",
              "795  RT @Laurie_Garrett: CONCEDE, MR. TRUMP. EVERY ...  Quality\n",
              "796  #US President-elect Joe #Biden says that incum...     Spam\n",
              "797  A Bull in the China Shop can only break so man...     Spam\n",
              "798  RT @Dakotadamus: $10,000 cash give giveaway: I...  Quality\n",
              "799  RT @OliviaTroye: #Trump “refusing to facilitat...  Quality\n",
              "\n",
              "[800 rows x 2 columns]"
            ]
          },
          "metadata": {
            "tags": []
          },
          "execution_count": 195
        }
      ]
    },
    {
      "cell_type": "code",
      "metadata": {
        "id": "XG3bg2SOIYdc"
      },
      "source": [],
      "execution_count": null,
      "outputs": []
    },
    {
      "cell_type": "code",
      "metadata": {
        "id": "IzQS35cZOE6V"
      },
      "source": [],
      "execution_count": null,
      "outputs": []
    },
    {
      "cell_type": "code",
      "metadata": {
        "id": "2rArQh7MQhog"
      },
      "source": [],
      "execution_count": null,
      "outputs": []
    }
  ]
}